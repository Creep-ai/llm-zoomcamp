{
 "cells": [
  {
   "cell_type": "code",
   "execution_count": 1,
   "id": "6ae419b2-db67-4e0d-a6cb-29951a46c337",
   "metadata": {},
   "outputs": [],
   "source": [
    "import json\n",
    "import os\n",
    "\n",
    "from groq import Groq\n",
    "import minsearch\n",
    "from IPython.display import Markdown, display"
   ]
  },
  {
   "cell_type": "code",
   "execution_count": 2,
   "id": "124fa307-0dda-4c1f-9bb6-3141143668a6",
   "metadata": {},
   "outputs": [],
   "source": [
    "with open('documents.json', 'rt') as f_in:\n",
    "    docs_raw = json.load(f_in)"
   ]
  },
  {
   "cell_type": "code",
   "execution_count": 3,
   "id": "8f56de4f-f52e-4a3c-a590-6a12a91e8b26",
   "metadata": {},
   "outputs": [],
   "source": [
    "documents = []\n",
    "\n",
    "for course_dict in docs_raw:\n",
    "    for doc in course_dict['documents']:\n",
    "        doc['course'] = course_dict['course']\n",
    "        documents.append(doc)"
   ]
  },
  {
   "cell_type": "code",
   "execution_count": 4,
   "id": "9c92f8b0-90aa-4f1e-beea-7f169e692719",
   "metadata": {},
   "outputs": [],
   "source": [
    "index = minsearch.Index(\n",
    "    text_fields=['question', 'text', 'section'],\n",
    "    keyword_fields=['course']\n",
    ")"
   ]
  },
  {
   "cell_type": "code",
   "execution_count": 5,
   "id": "e42059f0-cb6c-4665-bf6f-2d2560c1f9c9",
   "metadata": {},
   "outputs": [
    {
     "data": {
      "text/plain": [
       "<minsearch.Index at 0x74c839785300>"
      ]
     },
     "execution_count": 5,
     "metadata": {},
     "output_type": "execute_result"
    }
   ],
   "source": [
    "index.fit(documents)"
   ]
  },
  {
   "cell_type": "code",
   "execution_count": 6,
   "id": "4b1ae4d5-2faf-403a-a639-5d4962d8cd94",
   "metadata": {},
   "outputs": [],
   "source": [
    "client = Groq(\n",
    "    api_key=os.environ.get(\"GROQ_API_KEY\"),\n",
    ")"
   ]
  },
  {
   "cell_type": "code",
   "execution_count": 7,
   "id": "34dcafae-3c51-44b2-8ea3-07d928ba79e8",
   "metadata": {},
   "outputs": [],
   "source": [
    "def search(\n",
    "    index: minsearch.Index,\n",
    "    query: str,\n",
    "    num_results: int = 10\n",
    ") -> list[dict[str, str]]:\n",
    "    boost = {\n",
    "        'question': 3.0,\n",
    "        'section': 0.5\n",
    "    }\n",
    "    results = index.search(\n",
    "        query=query,\n",
    "        filter_dict={'course': 'data-engineering-zoomcamp'},\n",
    "        boost_dict=boost,\n",
    "        num_results=num_results\n",
    "    )\n",
    "    return results"
   ]
  },
  {
   "cell_type": "code",
   "execution_count": 8,
   "id": "50bd74f0",
   "metadata": {},
   "outputs": [],
   "source": [
    "def build_prompt(query: str, search_results: str) -> str:\n",
    "    prompt_template = '''\n",
    "You're a course teaching assistant. Answer the QUESTION based on the CONTEXT from the FAQ database.\n",
    "Use only the facts from the CONTEXT when answering the QUESTION.\n",
    "\n",
    "QUESTION: {question}\n",
    "\n",
    "CONTEXT: \n",
    "{context}\n",
    "'''.strip()\n",
    "    context = ''\n",
    "\n",
    "    for doc in search_results:\n",
    "        context = context + f'section: {doc[\"section\"]}\\nquestion: {doc[\"question\"]}\\nanswer: {doc[\"text\"]}\\n\\n'\n",
    "\n",
    "    prompt = prompt_template.format(question=query, context=context).strip()\n",
    "    return prompt"
   ]
  },
  {
   "cell_type": "code",
   "execution_count": 9,
   "id": "97c818c1-f564-4fe2-82a9-7d84e4abde37",
   "metadata": {},
   "outputs": [],
   "source": [
    "def llm(client: Groq, prompt: str) -> str:\n",
    "    chat_completion = client.chat.completions.create(\n",
    "    messages=[\n",
    "        {\n",
    "            \"role\": \"user\",\n",
    "            \"content\": prompt,\n",
    "        }\n",
    "    ],\n",
    "    model=\"llama3-8b-8192\",\n",
    ")\n",
    "    return chat_completion.choices[0].message.content"
   ]
  },
  {
   "cell_type": "code",
   "execution_count": 10,
   "id": "09e5ddef-7e93-4457-a364-ecd919de0743",
   "metadata": {},
   "outputs": [],
   "source": [
    "def rag(question: str) -> str:\n",
    "    search_results = search(index, question, num_results=5)\n",
    "    prompt = build_prompt(question, search_results)\n",
    "    answer = llm(client, prompt)\n",
    "    return answer"
   ]
  },
  {
   "cell_type": "code",
   "execution_count": 11,
   "id": "a835bcaa-3c64-4d8c-817f-b7802ecde3dd",
   "metadata": {},
   "outputs": [],
   "source": [
    "question = 'the course has already started, can I still enroll?'\n",
    "\n",
    "answer = rag(question)"
   ]
  },
  {
   "cell_type": "code",
   "execution_count": 12,
   "id": "769762c3",
   "metadata": {},
   "outputs": [
    {
     "data": {
      "text/markdown": [
       "Based on the context from the FAQ database, I can answer the QUESTION:\n",
       "\n",
       "QUESTION: the course has already started, can I still enroll?\n",
       "\n",
       "Answer: Yes, according to the FAQ, even if you don't register, you're still eligible to submit the homeworks."
      ],
      "text/plain": [
       "<IPython.core.display.Markdown object>"
      ]
     },
     "metadata": {},
     "output_type": "display_data"
    }
   ],
   "source": [
    "display(Markdown(answer))"
   ]
  },
  {
   "cell_type": "code",
   "execution_count": null,
   "id": "1a0cd8ba-a334-4bf0-99f8-98932bacbcb5",
   "metadata": {},
   "outputs": [],
   "source": []
  }
 ],
 "metadata": {
  "kernelspec": {
   "display_name": "Python 3 (ipykernel)",
   "language": "python",
   "name": "python3"
  },
  "language_info": {
   "codemirror_mode": {
    "name": "ipython",
    "version": 3
   },
   "file_extension": ".py",
   "mimetype": "text/x-python",
   "name": "python",
   "nbconvert_exporter": "python",
   "pygments_lexer": "ipython3",
   "version": "3.10.13"
  }
 },
 "nbformat": 4,
 "nbformat_minor": 5
}
