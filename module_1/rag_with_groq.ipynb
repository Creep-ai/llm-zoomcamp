{
 "cells": [
  {
   "cell_type": "code",
   "execution_count": 1,
   "id": "6ae419b2-db67-4e0d-a6cb-29951a46c337",
   "metadata": {},
   "outputs": [],
   "source": [
    "import json\n",
    "import os\n",
    "\n",
    "from elasticsearch import Elasticsearch\n",
    "from groq import Groq\n",
    "import minsearch\n",
    "from IPython.display import Markdown, display\n",
    "from tqdm.auto import tqdm\n",
    "\n",
    "from utils import elastic_search, rag_elastic, rag_minsearch"
   ]
  },
  {
   "cell_type": "markdown",
   "id": "58290639-a5bf-4c8f-8fa3-881b06d5a3d3",
   "metadata": {},
   "source": [
    "***"
   ]
  },
  {
   "cell_type": "markdown",
   "id": "b882b594-f2e1-4beb-8717-5d93b0b721f3",
   "metadata": {},
   "source": [
    "## Rag demo with minsearch"
   ]
  },
  {
   "cell_type": "code",
   "execution_count": 2,
   "id": "124fa307-0dda-4c1f-9bb6-3141143668a6",
   "metadata": {},
   "outputs": [],
   "source": [
    "with open('documents.json', 'rt') as f_in:\n",
    "    docs_raw = json.load(f_in)"
   ]
  },
  {
   "cell_type": "code",
   "execution_count": 3,
   "id": "8f56de4f-f52e-4a3c-a590-6a12a91e8b26",
   "metadata": {},
   "outputs": [],
   "source": [
    "documents = []\n",
    "\n",
    "for course_dict in docs_raw:\n",
    "    for doc in course_dict['documents']:\n",
    "        doc['course'] = course_dict['course']\n",
    "        documents.append(doc)"
   ]
  },
  {
   "cell_type": "code",
   "execution_count": 4,
   "id": "9c92f8b0-90aa-4f1e-beea-7f169e692719",
   "metadata": {},
   "outputs": [],
   "source": [
    "index = minsearch.Index(\n",
    "    text_fields=['question', 'text', 'section'],\n",
    "    keyword_fields=['course']\n",
    ")"
   ]
  },
  {
   "cell_type": "code",
   "execution_count": 5,
   "id": "e42059f0-cb6c-4665-bf6f-2d2560c1f9c9",
   "metadata": {},
   "outputs": [
    {
     "data": {
      "text/plain": [
       "<minsearch.Index at 0x7e79897ebd30>"
      ]
     },
     "execution_count": 5,
     "metadata": {},
     "output_type": "execute_result"
    }
   ],
   "source": [
    "index.fit(documents)"
   ]
  },
  {
   "cell_type": "code",
   "execution_count": 6,
   "id": "4b1ae4d5-2faf-403a-a639-5d4962d8cd94",
   "metadata": {},
   "outputs": [],
   "source": [
    "groq_client = Groq(\n",
    "    api_key=os.environ.get(\"GROQ_API_KEY\"),\n",
    ")"
   ]
  },
  {
   "cell_type": "code",
   "execution_count": 7,
   "id": "a835bcaa-3c64-4d8c-817f-b7802ecde3dd",
   "metadata": {},
   "outputs": [],
   "source": [
    "question = 'the course has already started, can I still enroll?'\n",
    "\n",
    "answer = rag_minsearch(client=groq_client, index=index, question=question)"
   ]
  },
  {
   "cell_type": "code",
   "execution_count": 8,
   "id": "769762c3",
   "metadata": {},
   "outputs": [
    {
     "data": {
      "text/markdown": [
       "Based on the context, the QUESTION is: the course has already started, can I still enroll?\n",
       "\n",
       "According to the FAQ, the answer is: No, there is no mention of enrolling after the course has started. The closest related answer is from the question \"Can I join the course after the start date?\" which states that students can still submit homeworks even if they don't register, but there is no information on enrolling in the course after it has started."
      ],
      "text/plain": [
       "<IPython.core.display.Markdown object>"
      ]
     },
     "metadata": {},
     "output_type": "display_data"
    }
   ],
   "source": [
    "display(Markdown(answer))"
   ]
  },
  {
   "cell_type": "markdown",
   "id": "a7ec4c6f-8766-459c-b231-4986f041e2f5",
   "metadata": {},
   "source": [
    "***"
   ]
  },
  {
   "cell_type": "markdown",
   "id": "05451db1-3a2e-4024-add1-73839653f5ea",
   "metadata": {},
   "source": [
    "### Rag demo with elasticsearch"
   ]
  },
  {
   "cell_type": "code",
   "execution_count": 9,
   "id": "24ee6013-e45c-4d55-bd1c-7ebbc744a8d8",
   "metadata": {},
   "outputs": [],
   "source": [
    "elastic_search_client = Elasticsearch('http://localhost:9200')"
   ]
  },
  {
   "cell_type": "code",
   "execution_count": 10,
   "id": "68803cab-2893-4958-b4f9-ed4f4d7f996d",
   "metadata": {},
   "outputs": [
    {
     "data": {
      "text/plain": [
       "ObjectApiResponse({'name': 'ad15fa4654dc', 'cluster_name': 'docker-cluster', 'cluster_uuid': '05BJz8gkSReW0GAKSqVkZg', 'version': {'number': '8.4.3', 'build_flavor': 'default', 'build_type': 'docker', 'build_hash': '42f05b9372a9a4a470db3b52817899b99a76ee73', 'build_date': '2022-10-04T07:17:24.662462378Z', 'build_snapshot': False, 'lucene_version': '9.3.0', 'minimum_wire_compatibility_version': '7.17.0', 'minimum_index_compatibility_version': '7.0.0'}, 'tagline': 'You Know, for Search'})"
      ]
     },
     "execution_count": 10,
     "metadata": {},
     "output_type": "execute_result"
    }
   ],
   "source": [
    "elastic_search_client.info()"
   ]
  },
  {
   "cell_type": "code",
   "execution_count": 11,
   "id": "f72c434f-afd0-47dc-8158-f0a0d0f16063",
   "metadata": {},
   "outputs": [],
   "source": [
    "index_settings = {\n",
    "    \"settings\": {\n",
    "        \"number_of_shards\": 1,\n",
    "        \"number_of_replicas\": 0\n",
    "        },\n",
    "    \"mappings\": {\n",
    "        \"properties\": {\n",
    "            \"text\": {\"type\": \"text\"},\n",
    "            \"section\": {\"type\": \"text\"},\n",
    "            \"question\": {\"type\": \"text\"},\n",
    "            \"course\": {\"type\": \"keyword\"} \n",
    "        }\n",
    "    }\n",
    "}\n",
    "index_name = 'course-questions'"
   ]
  },
  {
   "cell_type": "code",
   "execution_count": null,
   "id": "90e3466c-3595-4f12-a3da-add7dc6e99c5",
   "metadata": {},
   "outputs": [],
   "source": [
    "elastic_search_client.indices.create(index=index_name, body=index_settings)"
   ]
  },
  {
   "cell_type": "code",
   "execution_count": null,
   "id": "2158ee38-e0c2-468c-8af9-94330015f178",
   "metadata": {},
   "outputs": [],
   "source": [
    "for one_document in tqdm(documents):\n",
    "    elastic_search_client.index(index=index_name, document=one_document)"
   ]
  },
  {
   "cell_type": "code",
   "execution_count": 13,
   "id": "fd4d9366-5a9b-4415-a81e-e0edfe1f8b54",
   "metadata": {},
   "outputs": [],
   "source": [
    "answer = rag_elastic(\n",
    "    client=groq_client, \n",
    "    elastic_search_client=elastic_search_client, \n",
    "    index_name=index_name,\n",
    "    num_results=5,\n",
    "    question=question\n",
    ")"
   ]
  },
  {
   "cell_type": "code",
   "execution_count": 14,
   "id": "386f5d9e-3e27-4b97-9bb3-f6266d912658",
   "metadata": {},
   "outputs": [
    {
     "data": {
      "text/markdown": [
       "According to the CONTEXT, the answer to your QUESTION is: Yes, you can still enroll in the course even after the start date."
      ],
      "text/plain": [
       "<IPython.core.display.Markdown object>"
      ]
     },
     "metadata": {},
     "output_type": "display_data"
    }
   ],
   "source": [
    "display(Markdown(answer))"
   ]
  },
  {
   "cell_type": "code",
   "execution_count": null,
   "id": "096130eb-662f-4b7e-8df5-25ca6b315d5e",
   "metadata": {},
   "outputs": [],
   "source": []
  }
 ],
 "metadata": {
  "kernelspec": {
   "display_name": "Python 3 (ipykernel)",
   "language": "python",
   "name": "python3"
  },
  "language_info": {
   "codemirror_mode": {
    "name": "ipython",
    "version": 3
   },
   "file_extension": ".py",
   "mimetype": "text/x-python",
   "name": "python",
   "nbconvert_exporter": "python",
   "pygments_lexer": "ipython3",
   "version": "3.10.13"
  }
 },
 "nbformat": 4,
 "nbformat_minor": 5
}
