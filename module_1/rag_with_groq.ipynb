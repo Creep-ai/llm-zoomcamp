{
 "cells": [
  {
   "cell_type": "code",
   "execution_count": 1,
   "id": "6ae419b2-db67-4e0d-a6cb-29951a46c337",
   "metadata": {},
   "outputs": [],
   "source": [
    "import json\n",
    "import os\n",
    "\n",
    "from groq import Groq\n",
    "import minsearch\n",
    "from IPython.display import Markdown, display\n",
    "\n",
    "from utils import rag"
   ]
  },
  {
   "cell_type": "code",
   "execution_count": 2,
   "id": "124fa307-0dda-4c1f-9bb6-3141143668a6",
   "metadata": {},
   "outputs": [],
   "source": [
    "with open('documents.json', 'rt') as f_in:\n",
    "    docs_raw = json.load(f_in)"
   ]
  },
  {
   "cell_type": "code",
   "execution_count": 3,
   "id": "8f56de4f-f52e-4a3c-a590-6a12a91e8b26",
   "metadata": {},
   "outputs": [],
   "source": [
    "documents = []\n",
    "\n",
    "for course_dict in docs_raw:\n",
    "    for doc in course_dict['documents']:\n",
    "        doc['course'] = course_dict['course']\n",
    "        documents.append(doc)"
   ]
  },
  {
   "cell_type": "code",
   "execution_count": 4,
   "id": "9c92f8b0-90aa-4f1e-beea-7f169e692719",
   "metadata": {},
   "outputs": [],
   "source": [
    "index = minsearch.Index(\n",
    "    text_fields=['question', 'text', 'section'],\n",
    "    keyword_fields=['course']\n",
    ")"
   ]
  },
  {
   "cell_type": "code",
   "execution_count": 5,
   "id": "e42059f0-cb6c-4665-bf6f-2d2560c1f9c9",
   "metadata": {},
   "outputs": [
    {
     "data": {
      "text/plain": [
       "<minsearch.Index at 0x7af9eb3b1030>"
      ]
     },
     "execution_count": 5,
     "metadata": {},
     "output_type": "execute_result"
    }
   ],
   "source": [
    "index.fit(documents)"
   ]
  },
  {
   "cell_type": "code",
   "execution_count": 6,
   "id": "4b1ae4d5-2faf-403a-a639-5d4962d8cd94",
   "metadata": {},
   "outputs": [],
   "source": [
    "client = Groq(\n",
    "    api_key=os.environ.get(\"GROQ_API_KEY\"),\n",
    ")"
   ]
  },
  {
   "cell_type": "code",
   "execution_count": 7,
   "id": "a835bcaa-3c64-4d8c-817f-b7802ecde3dd",
   "metadata": {},
   "outputs": [],
   "source": [
    "question = 'the course has already started, can I still enroll?'\n",
    "\n",
    "answer = rag(client, index, question)"
   ]
  },
  {
   "cell_type": "code",
   "execution_count": 8,
   "id": "769762c3",
   "metadata": {},
   "outputs": [
    {
     "data": {
      "text/markdown": [
       "According to the context, the question \"Can I still join the course after the start date?\" was answered as: \"Yes, even if you don't register, you're still eligible to submit the homeworks. Be aware, however, that there will be deadlines for turning in the final projects. So don't leave everything for the last minute.\"\n",
       "\n",
       "So, to answer your QUESTION: \"the course has already started, can I still enroll?\", the answer is: \"Yes, even if you don't register (the course has already started), you are still eligible to submit the homeworks, but be aware of the deadlines for the final projects.\""
      ],
      "text/plain": [
       "<IPython.core.display.Markdown object>"
      ]
     },
     "metadata": {},
     "output_type": "display_data"
    }
   ],
   "source": [
    "display(Markdown(answer))"
   ]
  }
 ],
 "metadata": {
  "kernelspec": {
   "display_name": "Python 3 (ipykernel)",
   "language": "python",
   "name": "python3"
  },
  "language_info": {
   "codemirror_mode": {
    "name": "ipython",
    "version": 3
   },
   "file_extension": ".py",
   "mimetype": "text/x-python",
   "name": "python",
   "nbconvert_exporter": "python",
   "pygments_lexer": "ipython3",
   "version": "3.10.13"
  }
 },
 "nbformat": 4,
 "nbformat_minor": 5
}
