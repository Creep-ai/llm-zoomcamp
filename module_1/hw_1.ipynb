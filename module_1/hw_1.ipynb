{
 "cells": [
  {
   "cell_type": "code",
   "execution_count": 1,
   "id": "183db629-9315-4d2b-b6b9-cdf41fe31d11",
   "metadata": {},
   "outputs": [],
   "source": [
    "import requests\n",
    "\n",
    "from elasticsearch import Elasticsearch\n",
    "import tiktoken\n",
    "from tqdm.auto import tqdm"
   ]
  },
  {
   "cell_type": "code",
   "execution_count": 2,
   "id": "e506dc5f-53dc-4ed4-b8b9-dea7aa5a332c",
   "metadata": {},
   "outputs": [],
   "source": [
    "elastic_search_client = Elasticsearch('http://localhost:9200')"
   ]
  },
  {
   "cell_type": "markdown",
   "id": "2cbb2e61-7b2d-4d9c-9e8d-db7d45f08588",
   "metadata": {},
   "source": [
    "## Q1"
   ]
  },
  {
   "cell_type": "code",
   "execution_count": 3,
   "id": "826d1374-bf22-49cf-a88b-c3691573bf2d",
   "metadata": {},
   "outputs": [
    {
     "data": {
      "text/plain": [
       "ObjectApiResponse({'name': 'ad15fa4654dc', 'cluster_name': 'docker-cluster', 'cluster_uuid': '05BJz8gkSReW0GAKSqVkZg', 'version': {'number': '8.4.3', 'build_flavor': 'default', 'build_type': 'docker', 'build_hash': '42f05b9372a9a4a470db3b52817899b99a76ee73', 'build_date': '2022-10-04T07:17:24.662462378Z', 'build_snapshot': False, 'lucene_version': '9.3.0', 'minimum_wire_compatibility_version': '7.17.0', 'minimum_index_compatibility_version': '7.0.0'}, 'tagline': 'You Know, for Search'})"
      ]
     },
     "execution_count": 3,
     "metadata": {},
     "output_type": "execute_result"
    }
   ],
   "source": [
    "elastic_search_client.info()"
   ]
  },
  {
   "cell_type": "markdown",
   "id": "9a5d753f-1c68-4ef3-8b0c-8e5a8410729f",
   "metadata": {},
   "source": [
    "## Q2"
   ]
  },
  {
   "cell_type": "code",
   "execution_count": 4,
   "id": "2c8407b3-4b4d-4664-ae04-e97029110560",
   "metadata": {},
   "outputs": [],
   "source": [
    "docs_url = 'https://github.com/DataTalksClub/llm-zoomcamp/blob/main/01-intro/documents.json?raw=1'\n",
    "docs_response = requests.get(docs_url)\n",
    "documents_raw = docs_response.json()\n",
    "\n",
    "documents = []\n",
    "\n",
    "for course in documents_raw:\n",
    "    course_name = course['course']\n",
    "\n",
    "    for doc in course['documents']:\n",
    "        doc['course'] = course_name\n",
    "        documents.append(doc)"
   ]
  },
  {
   "cell_type": "code",
   "execution_count": 5,
   "id": "96238502-651d-4454-abbb-8dbdae496740",
   "metadata": {},
   "outputs": [
    {
     "data": {
      "application/vnd.jupyter.widget-view+json": {
       "model_id": "71586609a4f840c7a45c0aaa2ff2eb62",
       "version_major": 2,
       "version_minor": 0
      },
      "text/plain": [
       "  0%|          | 0/948 [00:00<?, ?it/s]"
      ]
     },
     "metadata": {},
     "output_type": "display_data"
    }
   ],
   "source": [
    "index_settings = {\n",
    "    \"settings\": {\n",
    "        \"number_of_shards\": 1,\n",
    "        \"number_of_replicas\": 0\n",
    "        },\n",
    "    \"mappings\": {\n",
    "        \"properties\": {\n",
    "            \"text\": {\"type\": \"text\"},\n",
    "            \"section\": {\"type\": \"text\"},\n",
    "            \"question\": {\"type\": \"text\"},\n",
    "            \"course\": {\"type\": \"keyword\"} \n",
    "        }\n",
    "    }\n",
    "}\n",
    "\n",
    "index_name = 'index-for-homework'\n",
    "\n",
    "elastic_search_client.indices.create(index=index_name, body=index_settings)\n",
    "\n",
    "for one_document in tqdm(documents):\n",
    "    elastic_search_client.index(index=index_name, document=one_document)"
   ]
  },
  {
   "cell_type": "markdown",
   "id": "fb57e1b3-6506-426c-bb34-3d34037fb750",
   "metadata": {},
   "source": [
    "## Q3"
   ]
  },
  {
   "cell_type": "code",
   "execution_count": 5,
   "id": "1fcc44d0-e51b-4926-a469-e8a641fabeac",
   "metadata": {},
   "outputs": [],
   "source": [
    "question = 'How do I execute a command in a running docker container?'\n",
    "\n",
    "index_name = 'course-questions'\n",
    "\n",
    "search_query = {\n",
    "    \"size\": 5,\n",
    "    \"query\": {\n",
    "        \"bool\": {\n",
    "            \"must\": {\n",
    "                \"multi_match\": {\n",
    "                    \"query\": question, \n",
    "                    \"fields\": [\"question^4\", \"text\"], \n",
    "                    \"type\": \"best_fields\"\n",
    "                }\n",
    "                },\n",
    "            \"filter\": {\n",
    "                \"term\": {\n",
    "                    \"course\": \"data-engineering-zoomcamp\"\n",
    "                }\n",
    "                },\n",
    "            }\n",
    "        },\n",
    "    }\n",
    "elastic_search_results = elastic_search_client.search(index=index_name, body=search_query)\n",
    "search_results = [one_hit[\"_source\"] for one_hit in elastic_search_results[\"hits\"][\"hits\"]]"
   ]
  },
  {
   "cell_type": "code",
   "execution_count": 6,
   "id": "26eab257-0d59-4968-b528-18fda2d19369",
   "metadata": {},
   "outputs": [
    {
     "data": {
      "text/plain": [
       "75.54128"
      ]
     },
     "execution_count": 6,
     "metadata": {},
     "output_type": "execute_result"
    }
   ],
   "source": [
    "elastic_search_results[\"hits\"][\"hits\"][0]['_score']"
   ]
  },
  {
   "cell_type": "markdown",
   "id": "6dd8153f-a3fc-47eb-aee5-f34e06c5851e",
   "metadata": {},
   "source": [
    "## Q4"
   ]
  },
  {
   "cell_type": "code",
   "execution_count": 7,
   "id": "a2baa86b-5939-4b37-a68d-aa9964329cd7",
   "metadata": {},
   "outputs": [],
   "source": [
    "question = 'How do I execute a command in a running docker container?'\n",
    "\n",
    "index_name = 'course-questions'\n",
    "\n",
    "search_query = {\n",
    "    \"size\": 5,\n",
    "    \"query\": {\n",
    "        \"bool\": {\n",
    "            \"must\": {\n",
    "                \"multi_match\": {\n",
    "                    \"query\": question, \n",
    "                    \"fields\": [\"question^4\", \"text\"], \n",
    "                    \"type\": \"best_fields\"\n",
    "                }\n",
    "                },\n",
    "            \"filter\": {\n",
    "                \"term\": {\n",
    "                    \"course\": \"machine-learning-zoomcamp\"\n",
    "                }\n",
    "                },\n",
    "            }\n",
    "        },\n",
    "    }\n",
    "elastic_search_results = elastic_search_client.search(index=index_name, body=search_query)\n",
    "search_results = [one_hit[\"_source\"] for one_hit in elastic_search_results[\"hits\"][\"hits\"]]"
   ]
  },
  {
   "cell_type": "code",
   "execution_count": 8,
   "id": "885eba62-5085-47f1-af91-b8d298cdfdc6",
   "metadata": {},
   "outputs": [
    {
     "data": {
      "text/plain": [
       "{'text': 'You can copy files from your local machine into a Docker container using the docker cp command. Here\\'s how to do it:\\nIn the Dockerfile, you can provide the folder containing the files that you want to copy over. The basic syntax is as follows:\\nCOPY [\"src/predict.py\", \"models/xgb_model.bin\", \"./\"]\\t\\t\\t\\t\\t\\t\\t\\t\\t\\t\\tGopakumar Gopinathan',\n",
       " 'section': '5. Deploying Machine Learning Models',\n",
       " 'question': 'How do I copy files from a different folder into docker container’s working directory?',\n",
       " 'course': 'machine-learning-zoomcamp'}"
      ]
     },
     "execution_count": 8,
     "metadata": {},
     "output_type": "execute_result"
    }
   ],
   "source": [
    "search_results[2]"
   ]
  },
  {
   "cell_type": "markdown",
   "id": "3465cccf-48d6-48d1-8415-4eff9441861b",
   "metadata": {},
   "source": [
    "## Q5"
   ]
  },
  {
   "cell_type": "code",
   "execution_count": 9,
   "id": "87977fa6-f01d-4fc4-9b40-d24d8ea07945",
   "metadata": {},
   "outputs": [],
   "source": [
    "context_template = \"\"\"\n",
    "Q: {question}\n",
    "A: {text}\n",
    "\"\"\".strip()"
   ]
  },
  {
   "cell_type": "code",
   "execution_count": 10,
   "id": "67c9ef54-9b6e-4f98-b1e4-8f983975df15",
   "metadata": {},
   "outputs": [],
   "source": [
    "prompt_template = \"\"\"\n",
    "You're a course teaching assistant. Answer the QUESTION based on the CONTEXT from the FAQ database.\n",
    "Use only the facts from the CONTEXT when answering the QUESTION.\n",
    "\n",
    "QUESTION: {question}\n",
    "\n",
    "CONTEXT:\n",
    "{context}\n",
    "\"\"\".strip()"
   ]
  },
  {
   "cell_type": "code",
   "execution_count": 11,
   "id": "a41004d6-b136-4562-8b1b-8e67f334fc4d",
   "metadata": {},
   "outputs": [],
   "source": [
    "context = '\\n\\n'.join(\n",
    "    [context_template.format(question=one_search_result['question'], text=one_search_result['text']) for one_search_result in search_results]\n",
    "    )"
   ]
  },
  {
   "cell_type": "code",
   "execution_count": 12,
   "id": "be43f794-7d54-4f27-8667-bd88e36cc858",
   "metadata": {},
   "outputs": [],
   "source": [
    "prompt = prompt_template.format(question=question, context=context)"
   ]
  },
  {
   "cell_type": "code",
   "execution_count": 13,
   "id": "c70f674f-b346-4397-b108-0c1ca0eaf306",
   "metadata": {},
   "outputs": [
    {
     "data": {
      "text/plain": [
       "2714"
      ]
     },
     "execution_count": 13,
     "metadata": {},
     "output_type": "execute_result"
    }
   ],
   "source": [
    "len(prompt)"
   ]
  },
  {
   "cell_type": "markdown",
   "id": "23510961-0863-4dd4-967a-de1394ca26f1",
   "metadata": {},
   "source": [
    "## Q6"
   ]
  },
  {
   "cell_type": "code",
   "execution_count": 14,
   "id": "6a85fbe5-1fdd-4933-a6da-476d0bc80a4f",
   "metadata": {},
   "outputs": [],
   "source": [
    "encoding = tiktoken.encoding_for_model(\"gpt-4o\")"
   ]
  },
  {
   "cell_type": "code",
   "execution_count": 15,
   "id": "6980a263-b9ce-4e67-bd3d-4e7bab50dc30",
   "metadata": {},
   "outputs": [
    {
     "data": {
      "text/plain": [
       "621"
      ]
     },
     "execution_count": 15,
     "metadata": {},
     "output_type": "execute_result"
    }
   ],
   "source": [
    "len(encoding.encode(prompt))"
   ]
  },
  {
   "cell_type": "code",
   "execution_count": null,
   "id": "caea0f0c-3e70-4a3d-a5fe-b484044e71e9",
   "metadata": {},
   "outputs": [],
   "source": []
  }
 ],
 "metadata": {
  "kernelspec": {
   "display_name": "Python 3 (ipykernel)",
   "language": "python",
   "name": "python3"
  },
  "language_info": {
   "codemirror_mode": {
    "name": "ipython",
    "version": 3
   },
   "file_extension": ".py",
   "mimetype": "text/x-python",
   "name": "python",
   "nbconvert_exporter": "python",
   "pygments_lexer": "ipython3",
   "version": "3.10.13"
  }
 },
 "nbformat": 4,
 "nbformat_minor": 5
}
