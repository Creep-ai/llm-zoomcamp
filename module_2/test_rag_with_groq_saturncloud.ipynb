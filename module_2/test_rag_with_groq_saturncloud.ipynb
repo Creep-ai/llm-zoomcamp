{
 "cells": [
  {
   "cell_type": "code",
   "execution_count": 1,
   "id": "5fe4c022",
   "metadata": {},
   "outputs": [
    {
     "name": "stdout",
     "output_type": "stream",
     "text": [
      "--2024-07-03 05:57:28--  https://raw.githubusercontent.com/alexeygrigorev/minsearch/main/minsearch.py\r\n",
      "Resolving raw.githubusercontent.com (raw.githubusercontent.com)... 185.199.109.133, 185.199.110.133, 185.199.111.133, ...\r\n",
      "Connecting to raw.githubusercontent.com (raw.githubusercontent.com)|185.199.109.133|:443... connected.\r\n",
      "HTTP request sent, awaiting response... 200 OK\r\n",
      "Length: 3832 (3.7K) [text/plain]\r\n",
      "Saving to: ‘minsearch.py’\r\n",
      "\r\n",
      "\r",
      "minsearch.py          0%[                    ]       0  --.-KB/s               \r",
      "minsearch.py        100%[===================>]   3.74K  --.-KB/s    in 0s      \r\n",
      "\r\n",
      "2024-07-03 05:57:28 (64.9 MB/s) - ‘minsearch.py’ saved [3832/3832]\r\n",
      "\r\n"
     ]
    }
   ],
   "source": [
    "!rm -f minsearch.py\n",
    "!wget https://raw.githubusercontent.com/alexeygrigorev/minsearch/main/minsearch.py"
   ]
  },
  {
   "cell_type": "code",
   "execution_count": 2,
   "id": "d612fd30",
   "metadata": {},
   "outputs": [],
   "source": [
    "import os\n",
    "import requests\n",
    "import typing\n",
    "\n",
    "from groq import Groq\n",
    "from IPython.display import Markdown, display\n",
    "import minsearch"
   ]
  },
  {
   "cell_type": "code",
   "execution_count": 3,
   "id": "4de19d58",
   "metadata": {},
   "outputs": [
    {
     "data": {
      "text/plain": [
       "<minsearch.Index at 0x7f014c234760>"
      ]
     },
     "execution_count": 3,
     "metadata": {},
     "output_type": "execute_result"
    }
   ],
   "source": [
    "docs_url = 'https://github.com/DataTalksClub/llm-zoomcamp/blob/main/01-intro/documents.json?raw=1'\n",
    "docs_response = requests.get(docs_url)\n",
    "documents_raw = docs_response.json()\n",
    "\n",
    "documents = []\n",
    "\n",
    "for course in documents_raw:\n",
    "    course_name = course['course']\n",
    "\n",
    "    for doc in course['documents']:\n",
    "        doc['course'] = course_name\n",
    "        documents.append(doc)\n",
    "\n",
    "index = minsearch.Index(\n",
    "    text_fields=[\"question\", \"text\", \"section\"],\n",
    "    keyword_fields=[\"course\"]\n",
    ")\n",
    "\n",
    "index.fit(documents)"
   ]
  },
  {
   "cell_type": "code",
   "execution_count": 4,
   "id": "291eea02",
   "metadata": {},
   "outputs": [],
   "source": [
    "\n",
    "def search(index: minsearch.Index, query: str, num_results: int = 10) -> list[dict[str, str]]:\n",
    "    boost = {\"question\": 3.0, \"section\": 0.5}\n",
    "    return index.search(\n",
    "        query=query, filter_dict={\"course\": \"data-engineering-zoomcamp\"}, boost_dict=boost, num_results=num_results\n",
    "    )"
   ]
  },
  {
   "cell_type": "code",
   "execution_count": 5,
   "id": "adcbcb5b",
   "metadata": {},
   "outputs": [],
   "source": [
    "def build_prompt(query: str, search_results: list[dict[str, str]]) -> str:\n",
    "    prompt_template = \"\"\"\n",
    "You're a course teaching assistant. Answer the QUESTION based on the CONTEXT from the FAQ database.\n",
    "Use only the facts from the CONTEXT when answering the QUESTION.\n",
    "\n",
    "QUESTION: {question}\n",
    "\n",
    "CONTEXT:\n",
    "{context}\n",
    "\"\"\".strip()\n",
    "    context = \"\"\n",
    "\n",
    "    for doc in search_results:\n",
    "        context = context + f'section: {doc[\"section\"]}\\nquestion: {doc[\"question\"]}\\nanswer: {doc[\"text\"]}\\n\\n'\n",
    "\n",
    "    return prompt_template.format(question=query, context=context).strip()\n",
    "\n",
    "def llm(client: Groq, prompt: str) -> typing.Optional[str]:\n",
    "    chat_completion = client.chat.completions.create(\n",
    "        messages=[\n",
    "            {\n",
    "                \"role\": \"user\",\n",
    "                \"content\": prompt,\n",
    "            }\n",
    "        ],\n",
    "        model=\"llama3-8b-8192\",\n",
    "    )\n",
    "    return chat_completion.choices[0].message.content"
   ]
  },
  {
   "cell_type": "code",
   "execution_count": 6,
   "id": "388c4cf6",
   "metadata": {},
   "outputs": [],
   "source": [
    "def rag_minsearch(client: Groq, index: minsearch.Index, question: str) -> typing.Optional[str]:\n",
    "    search_results = search(index, question, num_results=5)\n",
    "    prompt = build_prompt(question, search_results)\n",
    "    return llm(client, prompt)"
   ]
  },
  {
   "cell_type": "code",
   "execution_count": 7,
   "id": "f56735c3",
   "metadata": {},
   "outputs": [],
   "source": [
    "question = 'the course has already started, can I still enroll?'\n",
    "\n",
    "groq_client = Groq(\n",
    "    api_key=os.environ.get(\"GROQ_API_KEY\"),\n",
    ")\n",
    "\n",
    "answer = rag_minsearch(client=groq_client, index=index, question=question)"
   ]
  },
  {
   "cell_type": "code",
   "execution_count": 8,
   "id": "cb1f6ded",
   "metadata": {},
   "outputs": [
    {
     "data": {
      "text/markdown": [
       "Based on the CONTEXT, I can see that the course has already started (mentioned in the \"When will the course start?\" section). Therefore, according to the \"Can I still join the course after the start date?\" section, the answer is YES, you can still enroll in the course. However, be aware that there will be deadlines for turning in the final projects, so don't leave everything for the last minute."
      ],
      "text/plain": [
       "<IPython.core.display.Markdown object>"
      ]
     },
     "metadata": {},
     "output_type": "display_data"
    }
   ],
   "source": [
    "display(Markdown(answer))"
   ]
  },
  {
   "cell_type": "code",
   "execution_count": null,
   "id": "23ca2b08",
   "metadata": {},
   "outputs": [],
   "source": []
  }
 ],
 "metadata": {
  "kernelspec": {
   "display_name": "saturn (Python 3)",
   "language": "python",
   "name": "python3"
  },
  "language_info": {
   "codemirror_mode": {
    "name": "ipython",
    "version": 3
   },
   "file_extension": ".py",
   "mimetype": "text/x-python",
   "name": "python",
   "nbconvert_exporter": "python",
   "pygments_lexer": "ipython3",
   "version": "3.9.18"
  }
 },
 "nbformat": 4,
 "nbformat_minor": 5
}
