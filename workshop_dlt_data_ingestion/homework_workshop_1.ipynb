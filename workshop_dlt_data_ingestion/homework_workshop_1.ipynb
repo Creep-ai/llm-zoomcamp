{
 "cells": [
  {
   "cell_type": "code",
   "execution_count": 1,
   "id": "f4739aa2-f085-48c5-aa73-67173f710daf",
   "metadata": {},
   "outputs": [],
   "source": [
    "from datetime import datetime, timezone\n",
    "import typing as tp\n",
    "\n",
    "import dlt\n",
    "from dlt.sources.helpers.rest_client.paginators import BasePaginator, JSONResponsePaginator\n",
    "from dlt.sources.helpers.requests import Response, Request\n",
    "from dlt.destinations.adapters import lancedb_adapter\n",
    "import lancedb\n",
    "import ollama\n",
    "from rest_api import RESTAPIConfig, rest_api_source"
   ]
  },
  {
   "cell_type": "code",
   "execution_count": 2,
   "id": "283725c3-9509-42b2-b8ba-f1edec3494b4",
   "metadata": {},
   "outputs": [],
   "source": [
    "class PostBodyPaginator(BasePaginator):\n",
    "    def __init__(self) -> None:\n",
    "        super().__init__()\n",
    "        self.cursor = None\n",
    "\n",
    "    def update_state(self, response: Response) -> None:\n",
    "        # Assuming the API returns an empty list when no more data is available\n",
    "        if not response.json():\n",
    "            self._has_next_page = False\n",
    "        else:\n",
    "            self.cursor = response.json().get(\"next_cursor\")\n",
    "            if self.cursor is None:\n",
    "                self._has_next_page = False\n",
    "\n",
    "    def update_request(self, request: Request) -> None:\n",
    "        if request.json is None:\n",
    "            request.json = {}\n",
    "\n",
    "        # Add the cursor to the request body\n",
    "        request.json[\"start_cursor\"] = self.cursor"
   ]
  },
  {
   "cell_type": "code",
   "execution_count": 3,
   "id": "4f553525-d2dd-4cf2-b5be-92f579c443e7",
   "metadata": {},
   "outputs": [],
   "source": [
    "@dlt.resource(name=\"employee_handbook\")\n",
    "def rest_api_notion_resource():\n",
    "    notion_config: RESTAPIConfig = {\n",
    "        \"client\": {\n",
    "            \"base_url\": \"https://api.notion.com/v1/\",\n",
    "            \"auth\": {\n",
    "                \"token\": dlt.secrets[\"sources.rest_api.notion.api_key\"]\n",
    "            },\n",
    "            \"headers\":{\n",
    "            \"Content-Type\": \"application/json\",\n",
    "            \"Notion-Version\": \"2022-06-28\"\n",
    "            }\n",
    "        },\n",
    "        \"resources\": [\n",
    "            {\n",
    "                \"name\": \"search\",\n",
    "                \"endpoint\": {\n",
    "                    \"path\": \"search\",\n",
    "                    \"method\": \"POST\",\n",
    "                    \"paginator\": PostBodyPaginator(),\n",
    "                    \"json\": {\n",
    "                        \"query\": \"Homework: Employee handbook\",\n",
    "                        \"sort\": {\n",
    "                            \"direction\": \"ascending\",\n",
    "                            \"timestamp\": \"last_edited_time\"\n",
    "                        }\n",
    "                    },\n",
    "                    \"data_selector\": \"results\"\n",
    "                }\n",
    "            },\n",
    "            {\n",
    "                \"name\": \"page_content\",\n",
    "                \"endpoint\": {\n",
    "                    \"path\": \"blocks/{page_id}/children\",\n",
    "                    \"paginator\": JSONResponsePaginator(),\n",
    "                    \"params\": {\n",
    "                        \"page_id\": {\n",
    "                            \"type\": \"resolve\",\n",
    "                            \"resource\": \"search\",\n",
    "                            \"field\": \"id\"\n",
    "                        }\n",
    "                    },\n",
    "                }\n",
    "            }\n",
    "        ]\n",
    "    }\n",
    "\n",
    "    yield from rest_api_source(notion_config, name=\"employee_handbook\")"
   ]
  },
  {
   "cell_type": "code",
   "execution_count": 4,
   "id": "c00d4dc4-4200-40a2-8a53-e93c0160c2b4",
   "metadata": {},
   "outputs": [],
   "source": [
    "def extract_page_content(response) -> dict[str, tp.Any]:\n",
    "    block_id = response[\"id\"]\n",
    "    last_edited_time = response[\"last_edited_time\"]\n",
    "    block_type = response.get(\"type\", \"Not paragraph\")\n",
    "    if block_type != \"paragraph\":\n",
    "        content = \"\"\n",
    "    else:\n",
    "        try:\n",
    "            content = response[\"paragraph\"][\"rich_text\"][0][\"plain_text\"]\n",
    "        except IndexError:\n",
    "            content = \"\"\n",
    "    return {\n",
    "        \"block_id\": block_id,\n",
    "        \"block_type\": block_type,\n",
    "        \"content\": content,\n",
    "        \"last_edited_time\": last_edited_time,\n",
    "        \"inserted_at_time\": datetime.now(timezone.utc)\n",
    "    }"
   ]
  },
  {
   "cell_type": "code",
   "execution_count": 5,
   "id": "29620d49-03ce-43f9-8567-8ea83ad1843d",
   "metadata": {},
   "outputs": [],
   "source": [
    "@dlt.resource(\n",
    "    name=\"employee_handbook\",\n",
    "    write_disposition=\"merge\",\n",
    "    primary_key=\"block_id\",\n",
    "    columns={\"last_edited_time\":{\"dedup_sort\":\"desc\"}}\n",
    "    )\n",
    "def rest_api_notion_incremental(\n",
    "    last_edited_time = dlt.sources.incremental(\n",
    "        \"last_edited_time\", \n",
    "        initial_value=\"2024-06-26T08:16:00.000Z\", \n",
    "        primary_key=(\"block_id\")\n",
    "    )\n",
    "):\n",
    "    # last_value = last_edited_time.last_value\n",
    "    # print(last_value)\n",
    "\n",
    "    for block in rest_api_notion_resource.add_map(extract_page_content):\n",
    "        if not(len(block[\"content\"])):\n",
    "            continue\n",
    "        yield block"
   ]
  },
  {
   "cell_type": "code",
   "execution_count": 6,
   "id": "9b2d1feb-40b6-49f1-8a52-c58af85a68f8",
   "metadata": {},
   "outputs": [],
   "source": [
    "def load_notion() -> None:\n",
    "    pipeline = dlt.pipeline(\n",
    "        pipeline_name=\"company_policies\",\n",
    "        destination=\"lancedb\",\n",
    "        dataset_name=\"notion_pages\",\n",
    "        # full_refresh=True\n",
    "    )\n",
    "\n",
    "    load_info = pipeline.run(\n",
    "        lancedb_adapter(\n",
    "            rest_api_notion_incremental,\n",
    "            embed=\"content\"\n",
    "        ),\n",
    "        table_name=\"employee_handbook\",\n",
    "        write_disposition=\"merge\"\n",
    "    )\n",
    "    print(load_info)"
   ]
  },
  {
   "cell_type": "code",
   "execution_count": 7,
   "id": "b534ae9e-3bdf-4782-b087-a1b72ba426fa",
   "metadata": {},
   "outputs": [
    {
     "name": "stdout",
     "output_type": "stream",
     "text": [
      "Pipeline company_policies load step completed in ---\n",
      "0 load package(s) were loaded to destination LanceDB and into dataset None\n",
      "The LanceDB destination used <dlt.destinations.impl.lancedb.configuration.LanceDBCredentials object at 0x7a4f53eac460> location to store data\n"
     ]
    }
   ],
   "source": [
    "load_notion()"
   ]
  },
  {
   "cell_type": "code",
   "execution_count": 8,
   "id": "a17357c5-54d0-494e-a192-270c5896ec4c",
   "metadata": {},
   "outputs": [
    {
     "data": {
      "text/html": [
       "<div>\n",
       "<style scoped>\n",
       "    .dataframe tbody tr th:only-of-type {\n",
       "        vertical-align: middle;\n",
       "    }\n",
       "\n",
       "    .dataframe tbody tr th {\n",
       "        vertical-align: top;\n",
       "    }\n",
       "\n",
       "    .dataframe thead th {\n",
       "        text-align: right;\n",
       "    }\n",
       "</style>\n",
       "<table border=\"1\" class=\"dataframe\">\n",
       "  <thead>\n",
       "    <tr style=\"text-align: right;\">\n",
       "      <th></th>\n",
       "      <th>id__</th>\n",
       "      <th>vector__</th>\n",
       "      <th>block_id</th>\n",
       "      <th>block_type</th>\n",
       "      <th>content</th>\n",
       "      <th>last_edited_time</th>\n",
       "      <th>inserted_at_time</th>\n",
       "      <th>_dlt_load_id</th>\n",
       "      <th>_dlt_id</th>\n",
       "    </tr>\n",
       "  </thead>\n",
       "  <tbody>\n",
       "    <tr>\n",
       "      <th>0</th>\n",
       "      <td>f389f97c-03aa-5271-b2fb-051ce16574e0</td>\n",
       "      <td>[-0.024265619, 0.04746082, -0.011796436, 0.063...</td>\n",
       "      <td>a8196881-ae94-4767-8767-92fe1a327d24</td>\n",
       "      <td>paragraph</td>\n",
       "      <td>We owe our success to our employees. To show o...</td>\n",
       "      <td>2024-07-05 22:34:00+00:00</td>\n",
       "      <td>2024-07-22 16:57:58.190165+00:00</td>\n",
       "      <td>1721667476.132801</td>\n",
       "      <td>koRL4zr5G3RhEw</td>\n",
       "    </tr>\n",
       "    <tr>\n",
       "      <th>1</th>\n",
       "      <td>a9de527a-f0e9-50e9-9817-2df0ef208ba5</td>\n",
       "      <td>[-0.04966163, 0.10853516, -0.009762589, -0.036...</td>\n",
       "      <td>31fcbf26-2ca5-468a-8af8-d7eb4c2db8c8</td>\n",
       "      <td>paragraph</td>\n",
       "      <td>We want to ensure that private information abo...</td>\n",
       "      <td>2024-07-05 22:38:00+00:00</td>\n",
       "      <td>2024-07-22 16:57:58.193976+00:00</td>\n",
       "      <td>1721667476.132801</td>\n",
       "      <td>sP4V5I1ix77iEg</td>\n",
       "    </tr>\n",
       "    <tr>\n",
       "      <th>2</th>\n",
       "      <td>72ac35bc-9e93-56cc-a50d-d5ebe3232d7d</td>\n",
       "      <td>[-0.06316319, 0.17331506, 0.025351718, -0.0191...</td>\n",
       "      <td>da7721fd-3d0f-4c04-bc5e-825ad60bed1c</td>\n",
       "      <td>paragraph</td>\n",
       "      <td>Employee health is important to us. We don’t d...</td>\n",
       "      <td>2024-07-05 22:52:00+00:00</td>\n",
       "      <td>2024-07-22 16:57:58.194176+00:00</td>\n",
       "      <td>1721667476.132801</td>\n",
       "      <td>2nyfCXiGXr4Yhw</td>\n",
       "    </tr>\n",
       "    <tr>\n",
       "      <th>3</th>\n",
       "      <td>c595a6a7-40fe-5ce4-8a3c-37840f8c2f97</td>\n",
       "      <td>[-0.10974315, 0.10586077, 0.0032906013, -0.021...</td>\n",
       "      <td>ff36dcf3-5faa-40b4-ad8e-92fdc952201e</td>\n",
       "      <td>paragraph</td>\n",
       "      <td>Our company is dedicated to maintaining a safe...</td>\n",
       "      <td>2024-07-05 22:52:00+00:00</td>\n",
       "      <td>2024-07-22 16:57:58.194345+00:00</td>\n",
       "      <td>1721667476.132801</td>\n",
       "      <td>OV5gwl5sTsO7cQ</td>\n",
       "    </tr>\n",
       "    <tr>\n",
       "      <th>4</th>\n",
       "      <td>423f75c2-d53b-5d21-8e71-44f66bb4fc52</td>\n",
       "      <td>[0.052423332, -0.06457594, 0.065862976, 0.0145...</td>\n",
       "      <td>a1ff9697-4bb6-4f1e-b464-dda296dbd307</td>\n",
       "      <td>paragraph</td>\n",
       "      <td>If your job doesn’t require you to be present ...</td>\n",
       "      <td>2024-07-05 22:52:00+00:00</td>\n",
       "      <td>2024-07-22 16:57:58.194515+00:00</td>\n",
       "      <td>1721667476.132801</td>\n",
       "      <td>y5JB29aRmrXG1g</td>\n",
       "    </tr>\n",
       "  </tbody>\n",
       "</table>\n",
       "</div>"
      ],
      "text/plain": [
       "                                   id__  \\\n",
       "0  f389f97c-03aa-5271-b2fb-051ce16574e0   \n",
       "1  a9de527a-f0e9-50e9-9817-2df0ef208ba5   \n",
       "2  72ac35bc-9e93-56cc-a50d-d5ebe3232d7d   \n",
       "3  c595a6a7-40fe-5ce4-8a3c-37840f8c2f97   \n",
       "4  423f75c2-d53b-5d21-8e71-44f66bb4fc52   \n",
       "\n",
       "                                            vector__  \\\n",
       "0  [-0.024265619, 0.04746082, -0.011796436, 0.063...   \n",
       "1  [-0.04966163, 0.10853516, -0.009762589, -0.036...   \n",
       "2  [-0.06316319, 0.17331506, 0.025351718, -0.0191...   \n",
       "3  [-0.10974315, 0.10586077, 0.0032906013, -0.021...   \n",
       "4  [0.052423332, -0.06457594, 0.065862976, 0.0145...   \n",
       "\n",
       "                               block_id block_type  \\\n",
       "0  a8196881-ae94-4767-8767-92fe1a327d24  paragraph   \n",
       "1  31fcbf26-2ca5-468a-8af8-d7eb4c2db8c8  paragraph   \n",
       "2  da7721fd-3d0f-4c04-bc5e-825ad60bed1c  paragraph   \n",
       "3  ff36dcf3-5faa-40b4-ad8e-92fdc952201e  paragraph   \n",
       "4  a1ff9697-4bb6-4f1e-b464-dda296dbd307  paragraph   \n",
       "\n",
       "                                             content  \\\n",
       "0  We owe our success to our employees. To show o...   \n",
       "1  We want to ensure that private information abo...   \n",
       "2  Employee health is important to us. We don’t d...   \n",
       "3  Our company is dedicated to maintaining a safe...   \n",
       "4  If your job doesn’t require you to be present ...   \n",
       "\n",
       "           last_edited_time                 inserted_at_time  \\\n",
       "0 2024-07-05 22:34:00+00:00 2024-07-22 16:57:58.190165+00:00   \n",
       "1 2024-07-05 22:38:00+00:00 2024-07-22 16:57:58.193976+00:00   \n",
       "2 2024-07-05 22:52:00+00:00 2024-07-22 16:57:58.194176+00:00   \n",
       "3 2024-07-05 22:52:00+00:00 2024-07-22 16:57:58.194345+00:00   \n",
       "4 2024-07-05 22:52:00+00:00 2024-07-22 16:57:58.194515+00:00   \n",
       "\n",
       "        _dlt_load_id         _dlt_id  \n",
       "0  1721667476.132801  koRL4zr5G3RhEw  \n",
       "1  1721667476.132801  sP4V5I1ix77iEg  \n",
       "2  1721667476.132801  2nyfCXiGXr4Yhw  \n",
       "3  1721667476.132801  OV5gwl5sTsO7cQ  \n",
       "4  1721667476.132801  y5JB29aRmrXG1g  "
      ]
     },
     "execution_count": 8,
     "metadata": {},
     "output_type": "execute_result"
    }
   ],
   "source": [
    "db = lancedb.connect(\".lancedb\")\n",
    "dbtable = db.open_table(\"notion_pages___employee_handbook\")\n",
    "\n",
    "dbtable.to_pandas().head()"
   ]
  },
  {
   "cell_type": "markdown",
   "id": "d23096ae-a391-493e-9c74-56f7c72e4d91",
   "metadata": {},
   "source": [
    "## Question 1. Rows in LanceDB"
   ]
  },
  {
   "cell_type": "code",
   "execution_count": 9,
   "id": "229d8f31-1488-4250-9937-69103dcb76f0",
   "metadata": {},
   "outputs": [
    {
     "data": {
      "text/plain": [
       "(17, 9)"
      ]
     },
     "execution_count": 9,
     "metadata": {},
     "output_type": "execute_result"
    }
   ],
   "source": [
    "dbtable.to_pandas().shape"
   ]
  },
  {
   "cell_type": "markdown",
   "id": "a02315e7-2206-4cee-83b7-3d7ec5fa7f32",
   "metadata": {},
   "source": [
    "## Question 2. Running the Pipeline: Last edited time"
   ]
  },
  {
   "cell_type": "code",
   "execution_count": 10,
   "id": "168981ce-942c-4349-a918-40c7faca54d2",
   "metadata": {},
   "outputs": [
    {
     "data": {
      "text/plain": [
       "Timestamp('2024-07-05 23:33:00+0000', tz='UTC')"
      ]
     },
     "execution_count": 10,
     "metadata": {},
     "output_type": "execute_result"
    }
   ],
   "source": [
    "dbtable.to_pandas()['last_edited_time'].max()"
   ]
  },
  {
   "cell_type": "markdown",
   "id": "9d6bfdc4-d9b8-41b6-a169-97a842747f67",
   "metadata": {},
   "source": [
    "## Question 3. Ask the Assistant: How many PTO days are the employees entitled to in a year?"
   ]
  },
  {
   "cell_type": "code",
   "execution_count": 17,
   "id": "99339e2a-1fd4-4dec-82d3-643dfa611fd0",
   "metadata": {},
   "outputs": [],
   "source": [
    "def retrieve_context_from_lancedb(dbtable, question: str, top_k: int = 2) -> str:\n",
    "\n",
    "    query_results = dbtable.search(query=question).to_list()\n",
    "    context = \"\\n\".join([result[\"content\"] for result in query_results[:top_k]])\n",
    "\n",
    "    return context"
   ]
  },
  {
   "cell_type": "code",
   "execution_count": 18,
   "id": "06d2450b-3d44-4f4a-989a-001d98d27fc5",
   "metadata": {},
   "outputs": [],
   "source": [
    "def main() -> None:\n",
    "  # Connect to the lancedb table\n",
    "  db = lancedb.connect(\".lancedb\")\n",
    "  dbtable = db.open_table(\"notion_pages___employee_handbook\")\n",
    "\n",
    "  # A system prompt telling ollama to accept input in the form of \"Question: ... ; Context: ...\"\n",
    "  messages = [\n",
    "      {\"role\": \"system\", \"content\": \"You are a helpful assistant that helps users understand policies inside a company's employee handbook. The user will first ask you a question and then provide you relevant paragraphs from the handbook as context. Please answer the question based on the provided context. For any details missing in the paragraph, encourage the employee to contact the HR for that information. Please keep the responses conversational.\"}\n",
    "  ]\n",
    "\n",
    "  while True:\n",
    "    # Accept user question\n",
    "    question = input(\"You: \")\n",
    "\n",
    "    # Retrieve the relevant paragraphs on the question\n",
    "    context = retrieve_context_from_lancedb(dbtable,question,top_k=2)\n",
    "\n",
    "    # Create a user prompt using the question and retrieved context\n",
    "    messages.append(\n",
    "        {\"role\": \"user\", \"content\": f\"Question: '{question}'; Context:'{context}'\"}\n",
    "    )\n",
    "\n",
    "    # Get the response from the LLM\n",
    "    response = ollama.chat(\n",
    "        model=\"llama2-uncensored\",\n",
    "        messages=messages\n",
    "    )\n",
    "    response_content = response['message']['content']\n",
    "    print(f\"Assistant: {response_content}\")\n",
    "\n",
    "    # Add the response into the context window\n",
    "    messages.append(\n",
    "        {\"role\": \"assistant\", \"content\":response_content}\n",
    "    )"
   ]
  },
  {
   "cell_type": "code",
   "execution_count": 19,
   "id": "71ba97d7-5f93-4f25-817c-6a89cd8383ed",
   "metadata": {},
   "outputs": [
    {
     "name": "stdin",
     "output_type": "stream",
     "text": [
      "You:  How many PTO days are the employees entitled to in a year?\n"
     ]
    },
    {
     "ename": "ResponseError",
     "evalue": "model requires more system memory (8.4 GiB) than is available (4.5 GiB)",
     "output_type": "error",
     "traceback": [
      "\u001b[0;31m---------------------------------------------------------------------------\u001b[0m",
      "\u001b[0;31mResponseError\u001b[0m                             Traceback (most recent call last)",
      "Cell \u001b[0;32mIn[19], line 1\u001b[0m\n\u001b[0;32m----> 1\u001b[0m \u001b[43mmain\u001b[49m\u001b[43m(\u001b[49m\u001b[43m)\u001b[49m\n",
      "Cell \u001b[0;32mIn[18], line 24\u001b[0m, in \u001b[0;36mmain\u001b[0;34m()\u001b[0m\n\u001b[1;32m     19\u001b[0m messages\u001b[38;5;241m.\u001b[39mappend(\n\u001b[1;32m     20\u001b[0m     {\u001b[38;5;124m\"\u001b[39m\u001b[38;5;124mrole\u001b[39m\u001b[38;5;124m\"\u001b[39m: \u001b[38;5;124m\"\u001b[39m\u001b[38;5;124muser\u001b[39m\u001b[38;5;124m\"\u001b[39m, \u001b[38;5;124m\"\u001b[39m\u001b[38;5;124mcontent\u001b[39m\u001b[38;5;124m\"\u001b[39m: \u001b[38;5;124mf\u001b[39m\u001b[38;5;124m\"\u001b[39m\u001b[38;5;124mQuestion: \u001b[39m\u001b[38;5;124m'\u001b[39m\u001b[38;5;132;01m{\u001b[39;00mquestion\u001b[38;5;132;01m}\u001b[39;00m\u001b[38;5;124m'\u001b[39m\u001b[38;5;124m; Context:\u001b[39m\u001b[38;5;124m'\u001b[39m\u001b[38;5;132;01m{\u001b[39;00mcontext\u001b[38;5;132;01m}\u001b[39;00m\u001b[38;5;124m'\u001b[39m\u001b[38;5;124m\"\u001b[39m}\n\u001b[1;32m     21\u001b[0m )\n\u001b[1;32m     23\u001b[0m \u001b[38;5;66;03m# Get the response from the LLM\u001b[39;00m\n\u001b[0;32m---> 24\u001b[0m response \u001b[38;5;241m=\u001b[39m \u001b[43mollama\u001b[49m\u001b[38;5;241;43m.\u001b[39;49m\u001b[43mchat\u001b[49m\u001b[43m(\u001b[49m\n\u001b[1;32m     25\u001b[0m \u001b[43m    \u001b[49m\u001b[43mmodel\u001b[49m\u001b[38;5;241;43m=\u001b[39;49m\u001b[38;5;124;43m\"\u001b[39;49m\u001b[38;5;124;43mllama2-uncensored\u001b[39;49m\u001b[38;5;124;43m\"\u001b[39;49m\u001b[43m,\u001b[49m\n\u001b[1;32m     26\u001b[0m \u001b[43m    \u001b[49m\u001b[43mmessages\u001b[49m\u001b[38;5;241;43m=\u001b[39;49m\u001b[43mmessages\u001b[49m\n\u001b[1;32m     27\u001b[0m \u001b[43m\u001b[49m\u001b[43m)\u001b[49m\n\u001b[1;32m     28\u001b[0m response_content \u001b[38;5;241m=\u001b[39m response[\u001b[38;5;124m'\u001b[39m\u001b[38;5;124mmessage\u001b[39m\u001b[38;5;124m'\u001b[39m][\u001b[38;5;124m'\u001b[39m\u001b[38;5;124mcontent\u001b[39m\u001b[38;5;124m'\u001b[39m]\n\u001b[1;32m     29\u001b[0m \u001b[38;5;28mprint\u001b[39m(\u001b[38;5;124mf\u001b[39m\u001b[38;5;124m\"\u001b[39m\u001b[38;5;124mAssistant: \u001b[39m\u001b[38;5;132;01m{\u001b[39;00mresponse_content\u001b[38;5;132;01m}\u001b[39;00m\u001b[38;5;124m\"\u001b[39m)\n",
      "File \u001b[0;32m/workspaces/llm-zoomcamp/.venv/lib/python3.10/site-packages/ollama/_client.py:235\u001b[0m, in \u001b[0;36mClient.chat\u001b[0;34m(self, model, messages, tools, stream, format, options, keep_alive)\u001b[0m\n\u001b[1;32m    232\u001b[0m   \u001b[38;5;28;01mif\u001b[39;00m images \u001b[38;5;241m:=\u001b[39m message\u001b[38;5;241m.\u001b[39mget(\u001b[38;5;124m'\u001b[39m\u001b[38;5;124mimages\u001b[39m\u001b[38;5;124m'\u001b[39m):\n\u001b[1;32m    233\u001b[0m     message[\u001b[38;5;124m'\u001b[39m\u001b[38;5;124mimages\u001b[39m\u001b[38;5;124m'\u001b[39m] \u001b[38;5;241m=\u001b[39m [_encode_image(image) \u001b[38;5;28;01mfor\u001b[39;00m image \u001b[38;5;129;01min\u001b[39;00m images]\n\u001b[0;32m--> 235\u001b[0m \u001b[38;5;28;01mreturn\u001b[39;00m \u001b[38;5;28;43mself\u001b[39;49m\u001b[38;5;241;43m.\u001b[39;49m\u001b[43m_request_stream\u001b[49m\u001b[43m(\u001b[49m\n\u001b[1;32m    236\u001b[0m \u001b[43m  \u001b[49m\u001b[38;5;124;43m'\u001b[39;49m\u001b[38;5;124;43mPOST\u001b[39;49m\u001b[38;5;124;43m'\u001b[39;49m\u001b[43m,\u001b[49m\n\u001b[1;32m    237\u001b[0m \u001b[43m  \u001b[49m\u001b[38;5;124;43m'\u001b[39;49m\u001b[38;5;124;43m/api/chat\u001b[39;49m\u001b[38;5;124;43m'\u001b[39;49m\u001b[43m,\u001b[49m\n\u001b[1;32m    238\u001b[0m \u001b[43m  \u001b[49m\u001b[43mjson\u001b[49m\u001b[38;5;241;43m=\u001b[39;49m\u001b[43m{\u001b[49m\n\u001b[1;32m    239\u001b[0m \u001b[43m    \u001b[49m\u001b[38;5;124;43m'\u001b[39;49m\u001b[38;5;124;43mmodel\u001b[39;49m\u001b[38;5;124;43m'\u001b[39;49m\u001b[43m:\u001b[49m\u001b[43m \u001b[49m\u001b[43mmodel\u001b[49m\u001b[43m,\u001b[49m\n\u001b[1;32m    240\u001b[0m \u001b[43m    \u001b[49m\u001b[38;5;124;43m'\u001b[39;49m\u001b[38;5;124;43mmessages\u001b[39;49m\u001b[38;5;124;43m'\u001b[39;49m\u001b[43m:\u001b[49m\u001b[43m \u001b[49m\u001b[43mmessages\u001b[49m\u001b[43m,\u001b[49m\n\u001b[1;32m    241\u001b[0m \u001b[43m    \u001b[49m\u001b[38;5;124;43m'\u001b[39;49m\u001b[38;5;124;43mtools\u001b[39;49m\u001b[38;5;124;43m'\u001b[39;49m\u001b[43m:\u001b[49m\u001b[43m \u001b[49m\u001b[43mtools\u001b[49m\u001b[43m \u001b[49m\u001b[38;5;129;43;01mor\u001b[39;49;00m\u001b[43m \u001b[49m\u001b[43m[\u001b[49m\u001b[43m]\u001b[49m\u001b[43m,\u001b[49m\n\u001b[1;32m    242\u001b[0m \u001b[43m    \u001b[49m\u001b[38;5;124;43m'\u001b[39;49m\u001b[38;5;124;43mstream\u001b[39;49m\u001b[38;5;124;43m'\u001b[39;49m\u001b[43m:\u001b[49m\u001b[43m \u001b[49m\u001b[43mstream\u001b[49m\u001b[43m,\u001b[49m\n\u001b[1;32m    243\u001b[0m \u001b[43m    \u001b[49m\u001b[38;5;124;43m'\u001b[39;49m\u001b[38;5;124;43mformat\u001b[39;49m\u001b[38;5;124;43m'\u001b[39;49m\u001b[43m:\u001b[49m\u001b[43m \u001b[49m\u001b[38;5;28;43mformat\u001b[39;49m\u001b[43m,\u001b[49m\n\u001b[1;32m    244\u001b[0m \u001b[43m    \u001b[49m\u001b[38;5;124;43m'\u001b[39;49m\u001b[38;5;124;43moptions\u001b[39;49m\u001b[38;5;124;43m'\u001b[39;49m\u001b[43m:\u001b[49m\u001b[43m \u001b[49m\u001b[43moptions\u001b[49m\u001b[43m \u001b[49m\u001b[38;5;129;43;01mor\u001b[39;49;00m\u001b[43m \u001b[49m\u001b[43m{\u001b[49m\u001b[43m}\u001b[49m\u001b[43m,\u001b[49m\n\u001b[1;32m    245\u001b[0m \u001b[43m    \u001b[49m\u001b[38;5;124;43m'\u001b[39;49m\u001b[38;5;124;43mkeep_alive\u001b[39;49m\u001b[38;5;124;43m'\u001b[39;49m\u001b[43m:\u001b[49m\u001b[43m \u001b[49m\u001b[43mkeep_alive\u001b[49m\u001b[43m,\u001b[49m\n\u001b[1;32m    246\u001b[0m \u001b[43m  \u001b[49m\u001b[43m}\u001b[49m\u001b[43m,\u001b[49m\n\u001b[1;32m    247\u001b[0m \u001b[43m  \u001b[49m\u001b[43mstream\u001b[49m\u001b[38;5;241;43m=\u001b[39;49m\u001b[43mstream\u001b[49m\u001b[43m,\u001b[49m\n\u001b[1;32m    248\u001b[0m \u001b[43m\u001b[49m\u001b[43m)\u001b[49m\n",
      "File \u001b[0;32m/workspaces/llm-zoomcamp/.venv/lib/python3.10/site-packages/ollama/_client.py:98\u001b[0m, in \u001b[0;36mClient._request_stream\u001b[0;34m(self, stream, *args, **kwargs)\u001b[0m\n\u001b[1;32m     92\u001b[0m \u001b[38;5;28;01mdef\u001b[39;00m \u001b[38;5;21m_request_stream\u001b[39m(\n\u001b[1;32m     93\u001b[0m   \u001b[38;5;28mself\u001b[39m,\n\u001b[1;32m     94\u001b[0m   \u001b[38;5;241m*\u001b[39margs,\n\u001b[1;32m     95\u001b[0m   stream: \u001b[38;5;28mbool\u001b[39m \u001b[38;5;241m=\u001b[39m \u001b[38;5;28;01mFalse\u001b[39;00m,\n\u001b[1;32m     96\u001b[0m   \u001b[38;5;241m*\u001b[39m\u001b[38;5;241m*\u001b[39mkwargs,\n\u001b[1;32m     97\u001b[0m ) \u001b[38;5;241m-\u001b[39m\u001b[38;5;241m>\u001b[39m Union[Mapping[\u001b[38;5;28mstr\u001b[39m, Any], Iterator[Mapping[\u001b[38;5;28mstr\u001b[39m, Any]]]:\n\u001b[0;32m---> 98\u001b[0m   \u001b[38;5;28;01mreturn\u001b[39;00m \u001b[38;5;28mself\u001b[39m\u001b[38;5;241m.\u001b[39m_stream(\u001b[38;5;241m*\u001b[39margs, \u001b[38;5;241m*\u001b[39m\u001b[38;5;241m*\u001b[39mkwargs) \u001b[38;5;28;01mif\u001b[39;00m stream \u001b[38;5;28;01melse\u001b[39;00m \u001b[38;5;28;43mself\u001b[39;49m\u001b[38;5;241;43m.\u001b[39;49m\u001b[43m_request\u001b[49m\u001b[43m(\u001b[49m\u001b[38;5;241;43m*\u001b[39;49m\u001b[43margs\u001b[49m\u001b[43m,\u001b[49m\u001b[43m \u001b[49m\u001b[38;5;241;43m*\u001b[39;49m\u001b[38;5;241;43m*\u001b[39;49m\u001b[43mkwargs\u001b[49m\u001b[43m)\u001b[49m\u001b[38;5;241m.\u001b[39mjson()\n",
      "File \u001b[0;32m/workspaces/llm-zoomcamp/.venv/lib/python3.10/site-packages/ollama/_client.py:74\u001b[0m, in \u001b[0;36mClient._request\u001b[0;34m(self, method, url, **kwargs)\u001b[0m\n\u001b[1;32m     72\u001b[0m   response\u001b[38;5;241m.\u001b[39mraise_for_status()\n\u001b[1;32m     73\u001b[0m \u001b[38;5;28;01mexcept\u001b[39;00m httpx\u001b[38;5;241m.\u001b[39mHTTPStatusError \u001b[38;5;28;01mas\u001b[39;00m e:\n\u001b[0;32m---> 74\u001b[0m   \u001b[38;5;28;01mraise\u001b[39;00m ResponseError(e\u001b[38;5;241m.\u001b[39mresponse\u001b[38;5;241m.\u001b[39mtext, e\u001b[38;5;241m.\u001b[39mresponse\u001b[38;5;241m.\u001b[39mstatus_code) \u001b[38;5;28;01mfrom\u001b[39;00m \u001b[38;5;28;01mNone\u001b[39;00m\n\u001b[1;32m     76\u001b[0m \u001b[38;5;28;01mreturn\u001b[39;00m response\n",
      "\u001b[0;31mResponseError\u001b[0m: model requires more system memory (8.4 GiB) than is available (4.5 GiB)"
     ]
    }
   ],
   "source": [
    "main()"
   ]
  },
  {
   "cell_type": "code",
   "execution_count": null,
   "id": "4864fba2-7f66-410f-ae42-f773212f0e2d",
   "metadata": {},
   "outputs": [],
   "source": []
  }
 ],
 "metadata": {
  "kernelspec": {
   "display_name": "Python 3 (ipykernel)",
   "language": "python",
   "name": "python3"
  },
  "language_info": {
   "codemirror_mode": {
    "name": "ipython",
    "version": 3
   },
   "file_extension": ".py",
   "mimetype": "text/x-python",
   "name": "python",
   "nbconvert_exporter": "python",
   "pygments_lexer": "ipython3",
   "version": "3.10.13"
  }
 },
 "nbformat": 4,
 "nbformat_minor": 5
}
